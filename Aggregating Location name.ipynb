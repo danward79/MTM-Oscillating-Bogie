{
 "cells": [
  {
   "cell_type": "code",
   "execution_count": 1,
   "metadata": {
    "collapsed": false
   },
   "outputs": [],
   "source": [
    "import pandas as pd\n",
    "import datetime\n",
    "import numpy as np\n",
    "import seaborn as sns\n",
    "import matplotlib as plt\n",
    "\n",
    "%matplotlib inline\n",
    "\n",
    "exceedanceData = pd.read_csv('Exceedences_of_Metro_route_25th_1.csv', header=2)\n",
    "\n"
   ]
  },
  {
   "cell_type": "code",
   "execution_count": 2,
   "metadata": {
    "collapsed": false
   },
   "outputs": [
    {
     "data": {
      "text/html": [
       "<div>\n",
       "<table border=\"1\" class=\"dataframe\">\n",
       "  <thead>\n",
       "    <tr style=\"text-align: right;\">\n",
       "      <th></th>\n",
       "      <th>Latitude</th>\n",
       "      <th>Longitude</th>\n",
       "      <th>Analysis Type</th>\n",
       "      <th>Accelerometer Location</th>\n",
       "      <th>Direction</th>\n",
       "      <th>Value</th>\n",
       "      <th>Frequency(Hz)</th>\n",
       "      <th>Time</th>\n",
       "      <th>Speed</th>\n",
       "    </tr>\n",
       "  </thead>\n",
       "  <tbody>\n",
       "    <tr>\n",
       "      <th>0</th>\n",
       "      <td>-37.664285</td>\n",
       "      <td>144.745264</td>\n",
       "      <td>Fourier Analysis</td>\n",
       "      <td>Bogie 1</td>\n",
       "      <td>Vertical</td>\n",
       "      <td>0.201239</td>\n",
       "      <td>9.765625</td>\n",
       "      <td>675.21</td>\n",
       "      <td>96.991293</td>\n",
       "    </tr>\n",
       "    <tr>\n",
       "      <th>1</th>\n",
       "      <td>-37.588627</td>\n",
       "      <td>144.721186</td>\n",
       "      <td>Fourier Analysis</td>\n",
       "      <td>Bogie 1</td>\n",
       "      <td>Vertical</td>\n",
       "      <td>0.207577</td>\n",
       "      <td>9.765625</td>\n",
       "      <td>1886.09</td>\n",
       "      <td>88.282528</td>\n",
       "    </tr>\n",
       "    <tr>\n",
       "      <th>2</th>\n",
       "      <td>-37.682989</td>\n",
       "      <td>144.759933</td>\n",
       "      <td>Fourier Analysis</td>\n",
       "      <td>Bogie 2</td>\n",
       "      <td>Vertical</td>\n",
       "      <td>0.223837</td>\n",
       "      <td>9.765625</td>\n",
       "      <td>580.49</td>\n",
       "      <td>83.548663</td>\n",
       "    </tr>\n",
       "    <tr>\n",
       "      <th>3</th>\n",
       "      <td>-37.666406</td>\n",
       "      <td>144.746936</td>\n",
       "      <td>Fourier Analysis</td>\n",
       "      <td>Bogie 2</td>\n",
       "      <td>Vertical</td>\n",
       "      <td>0.223639</td>\n",
       "      <td>10.156250</td>\n",
       "      <td>664.97</td>\n",
       "      <td>95.581003</td>\n",
       "    </tr>\n",
       "    <tr>\n",
       "      <th>4</th>\n",
       "      <td>-37.666002</td>\n",
       "      <td>144.746613</td>\n",
       "      <td>Fourier Analysis</td>\n",
       "      <td>Bogie 2</td>\n",
       "      <td>Vertical</td>\n",
       "      <td>0.219673</td>\n",
       "      <td>9.765625</td>\n",
       "      <td>667.53</td>\n",
       "      <td>95.329072</td>\n",
       "    </tr>\n",
       "  </tbody>\n",
       "</table>\n",
       "</div>"
      ],
      "text/plain": [
       "    Latitude   Longitude     Analysis Type Accelerometer Location Direction  \\\n",
       "0 -37.664285  144.745264  Fourier Analysis                Bogie 1  Vertical   \n",
       "1 -37.588627  144.721186  Fourier Analysis                Bogie 1  Vertical   \n",
       "2 -37.682989  144.759933  Fourier Analysis                Bogie 2  Vertical   \n",
       "3 -37.666406  144.746936  Fourier Analysis                Bogie 2  Vertical   \n",
       "4 -37.666002  144.746613  Fourier Analysis                Bogie 2  Vertical   \n",
       "\n",
       "      Value  Frequency(Hz)     Time      Speed  \n",
       "0  0.201239       9.765625   675.21  96.991293  \n",
       "1  0.207577       9.765625  1886.09  88.282528  \n",
       "2  0.223837       9.765625   580.49  83.548663  \n",
       "3  0.223639      10.156250   664.97  95.581003  \n",
       "4  0.219673       9.765625   667.53  95.329072  "
      ]
     },
     "execution_count": 2,
     "metadata": {},
     "output_type": "execute_result"
    }
   ],
   "source": [
    "exceedanceData.head()"
   ]
  },
  {
   "cell_type": "code",
   "execution_count": 3,
   "metadata": {
    "collapsed": false
   },
   "outputs": [
    {
     "name": "stdout",
     "output_type": "stream",
     "text": [
      "<class 'pandas.core.frame.DataFrame'>\n",
      "Int64Index: 68 entries, 0 to 67\n",
      "Data columns (total 9 columns):\n",
      "Latitude                  68 non-null float64\n",
      "Longitude                 68 non-null float64\n",
      "Analysis Type             68 non-null object\n",
      "Accelerometer Location    68 non-null object\n",
      "Direction                 68 non-null object\n",
      "Value                     68 non-null float64\n",
      "Frequency(Hz)             14 non-null float64\n",
      "Time                      68 non-null float64\n",
      "Speed                     68 non-null float64\n",
      "dtypes: float64(6), object(3)\n",
      "memory usage: 5.3+ KB\n"
     ]
    }
   ],
   "source": [
    "exceedanceData.info()"
   ]
  },
  {
   "cell_type": "code",
   "execution_count": 4,
   "metadata": {
    "collapsed": false
   },
   "outputs": [
    {
     "data": {
      "text/html": [
       "<div>\n",
       "<table border=\"1\" class=\"dataframe\">\n",
       "  <thead>\n",
       "    <tr style=\"text-align: right;\">\n",
       "      <th></th>\n",
       "      <th>Longitude</th>\n",
       "      <th>Latitude</th>\n",
       "      <th>Station Name</th>\n",
       "    </tr>\n",
       "  </thead>\n",
       "  <tbody>\n",
       "    <tr>\n",
       "      <th>0</th>\n",
       "      <td>144.760748</td>\n",
       "      <td>-37.866677</td>\n",
       "      <td>Aircraft Station</td>\n",
       "    </tr>\n",
       "    <tr>\n",
       "      <th>1</th>\n",
       "      <td>145.080039</td>\n",
       "      <td>-37.868638</td>\n",
       "      <td>Alamein    Station</td>\n",
       "    </tr>\n",
       "    <tr>\n",
       "      <th>2</th>\n",
       "      <td>144.824215</td>\n",
       "      <td>-37.777100</td>\n",
       "      <td>Albion Station</td>\n",
       "    </tr>\n",
       "    <tr>\n",
       "      <th>3</th>\n",
       "      <td>144.830013</td>\n",
       "      <td>-37.867006</td>\n",
       "      <td>Altona Station</td>\n",
       "    </tr>\n",
       "    <tr>\n",
       "      <th>4</th>\n",
       "      <td>144.800427</td>\n",
       "      <td>-37.782740</td>\n",
       "      <td>Ardeer Station</td>\n",
       "    </tr>\n",
       "  </tbody>\n",
       "</table>\n",
       "</div>"
      ],
      "text/plain": [
       "    Longitude   Latitude        Station Name\n",
       "0  144.760748 -37.866677    Aircraft Station\n",
       "1  145.080039 -37.868638  Alamein    Station\n",
       "2  144.824215 -37.777100      Albion Station\n",
       "3  144.830013 -37.867006      Altona Station\n",
       "4  144.800427 -37.782740      Ardeer Station"
      ]
     },
     "execution_count": 4,
     "metadata": {},
     "output_type": "execute_result"
    }
   ],
   "source": [
    "stationData = pd.read_csv('Railway_Station_Melbourne.csv', header=4  )\n",
    "stationData.head()"
   ]
  },
  {
   "cell_type": "code",
   "execution_count": 5,
   "metadata": {
    "collapsed": false
   },
   "outputs": [
    {
     "data": {
      "text/plain": [
       "-37.866677000000003"
      ]
     },
     "execution_count": 5,
     "metadata": {},
     "output_type": "execute_result"
    }
   ],
   "source": [
    "stationData.Latitude[0]"
   ]
  },
  {
   "cell_type": "code",
   "execution_count": 6,
   "metadata": {
    "collapsed": false
   },
   "outputs": [
    {
     "name": "stdout",
     "output_type": "stream",
     "text": [
      "<class 'pandas.core.frame.DataFrame'>\n",
      "Int64Index: 123 entries, 0 to 122\n",
      "Data columns (total 3 columns):\n",
      "Longitude       123 non-null float64\n",
      "Latitude        123 non-null float64\n",
      "Station Name    123 non-null object\n",
      "dtypes: float64(2), object(1)\n",
      "memory usage: 3.8+ KB\n"
     ]
    }
   ],
   "source": [
    "stationData.info()"
   ]
  },
  {
   "cell_type": "code",
   "execution_count": 7,
   "metadata": {
    "collapsed": false
   },
   "outputs": [
    {
     "name": "stdout",
     "output_type": "stream",
     "text": [
      "0.202983656982\n"
     ]
    }
   ],
   "source": [
    "import math\n",
    "\n",
    "def distanceCalc (excLon, excLat, stationLon, stationLat):   \n",
    "    return math.sqrt(math.pow(stationLat-excLat,2)+math.pow(stationLon-excLon,2))\n",
    "\n",
    "dist = distanceCalc(exceedanceData.Longitude[0], exceedanceData.Latitude[0], stationData.Longitude[0], stationData.Latitude[0])\n",
    "print dist"
   ]
  },
  {
   "cell_type": "code",
   "execution_count": 8,
   "metadata": {
    "collapsed": false
   },
   "outputs": [
    {
     "name": "stdout",
     "output_type": "stream",
     "text": [
      "123\n",
      "123\n",
      "123\n"
     ]
    }
   ],
   "source": [
    "tempDistanceLst = []\n",
    "x = exceedanceData.Longitude[0]\n",
    "y = exceedanceData.Latitude[0]\n",
    "\n",
    "counter = 0\n",
    "for idx, row in stationData.iterrows():\n",
    "    counter+=1\n",
    "    distance = distanceCalc(x, y, stationData.Longitude[idx], stationData.Latitude[idx])\n",
    "    tempDistanceLst.append(distance)\n",
    "    \n",
    "print counter\n",
    "print len(tempDistanceLst)\n",
    "print len(stationData)\n",
    "#print tempDistanceLst"
   ]
  },
  {
   "cell_type": "code",
   "execution_count": 9,
   "metadata": {
    "collapsed": false
   },
   "outputs": [
    {
     "name": "stdout",
     "output_type": "stream",
     "text": [
      "123\n",
      "123\n",
      "0.0393349602696\n",
      "112\n",
      "Sydenham Station\n"
     ]
    }
   ],
   "source": [
    "tempDistanceLst = []\n",
    "x = exceedanceData.Longitude[0]\n",
    "y = exceedanceData.Latitude[0]\n",
    "\n",
    "for idx, row in stationData.iterrows():\n",
    "    tempDistanceLst.append(distanceCalc(x, y, row.Longitude, row.Latitude))\n",
    "    \n",
    "print len(tempDistanceLst)\n",
    "print len(stationData)\n",
    "print min(tempDistanceLst)\n",
    "print tempDistanceLst.index(min(tempDistanceLst))\n",
    "print stationData['Station Name'][tempDistanceLst.index(min(tempDistanceLst))]"
   ]
  },
  {
   "cell_type": "code",
   "execution_count": 10,
   "metadata": {
    "collapsed": false
   },
   "outputs": [],
   "source": [
    "listNearestStations = []\n",
    "\n",
    "for idx1, row1 in exceedanceData.iterrows():\n",
    "    x = row1.Longitude\n",
    "    y = row1.Latitude\n",
    "    tempDistanceLst = []\n",
    "    \n",
    "    for idx2, row2 in stationData.iterrows():\n",
    "        tempDistanceLst.append(distanceCalc(x, y, row2.Longitude, row2.Latitude))\n",
    "    \n",
    "    listNearestStations.append(stationData['Station Name'][tempDistanceLst.index(min(tempDistanceLst))])\n",
    "    \n",
    "\n",
    "exceedanceData['Nearest Station'] = listNearestStations\n",
    "exceedanceData['Exceedence Instance'] = 1\n",
    "exceedanceData['Date'] = \"25/10/2015\"\n"
   ]
  },
  {
   "cell_type": "code",
   "execution_count": 11,
   "metadata": {
    "collapsed": false
   },
   "outputs": [
    {
     "name": "stdout",
     "output_type": "stream",
     "text": [
      "    Latitude   Longitude     Analysis Type Accelerometer Location Direction  \\\n",
      "0 -37.664285  144.745264  Fourier Analysis                Bogie 1  Vertical   \n",
      "1 -37.588627  144.721186  Fourier Analysis                Bogie 1  Vertical   \n",
      "2 -37.682989  144.759933  Fourier Analysis                Bogie 2  Vertical   \n",
      "3 -37.666406  144.746936  Fourier Analysis                Bogie 2  Vertical   \n",
      "4 -37.666002  144.746613  Fourier Analysis                Bogie 2  Vertical   \n",
      "\n",
      "      Value  Frequency(Hz)     Time      Speed   Nearest Station  \\\n",
      "0  0.201239       9.765625   675.21  96.991293  Sydenham Station   \n",
      "1  0.207577       9.765625  1886.09  88.282528  Sydenham Station   \n",
      "2  0.223837       9.765625   580.49  83.548663  Sydenham Station   \n",
      "3  0.223639      10.156250   664.97  95.581003  Sydenham Station   \n",
      "4  0.219673       9.765625   667.53  95.329072  Sydenham Station   \n",
      "\n",
      "   Exceedence Instance        Date  \n",
      "0                    1  25/10/2015  \n",
      "1                    1  25/10/2015  \n",
      "2                    1  25/10/2015  \n",
      "3                    1  25/10/2015  \n",
      "4                    1  25/10/2015  \n"
     ]
    }
   ],
   "source": [
    "print exceedanceData.head()"
   ]
  },
  {
   "cell_type": "code",
   "execution_count": 12,
   "metadata": {
    "collapsed": false
   },
   "outputs": [
    {
     "name": "stdout",
     "output_type": "stream",
     "text": [
      "<class 'pandas.core.frame.DataFrame'>\n",
      "Int64Index: 68 entries, 0 to 67\n",
      "Data columns (total 12 columns):\n",
      "Latitude                  68 non-null float64\n",
      "Longitude                 68 non-null float64\n",
      "Analysis Type             68 non-null object\n",
      "Accelerometer Location    68 non-null object\n",
      "Direction                 68 non-null object\n",
      "Value                     68 non-null float64\n",
      "Frequency(Hz)             14 non-null float64\n",
      "Time                      68 non-null float64\n",
      "Speed                     68 non-null float64\n",
      "Nearest Station           68 non-null object\n",
      "Exceedence Instance       68 non-null int64\n",
      "Date                      68 non-null object\n",
      "dtypes: float64(6), int64(1), object(5)\n",
      "memory usage: 6.9+ KB\n"
     ]
    }
   ],
   "source": [
    "exceedanceData.info()"
   ]
  },
  {
   "cell_type": "code",
   "execution_count": 13,
   "metadata": {
    "collapsed": false
   },
   "outputs": [],
   "source": [
    "exceedanceData.to_csv('exceedancesLHR.csv', sep='\\t')"
   ]
  },
  {
   "cell_type": "code",
   "execution_count": null,
   "metadata": {
    "collapsed": true
   },
   "outputs": [],
   "source": []
  }
 ],
 "metadata": {
  "kernelspec": {
   "display_name": "Python 2",
   "language": "python",
   "name": "python2"
  },
  "language_info": {
   "codemirror_mode": {
    "name": "ipython",
    "version": 2
   },
   "file_extension": ".py",
   "mimetype": "text/x-python",
   "name": "python",
   "nbconvert_exporter": "python",
   "pygments_lexer": "ipython2",
   "version": "2.7.10"
  }
 },
 "nbformat": 4,
 "nbformat_minor": 0
}
