{
 "cells": [
  {
   "cell_type": "code",
   "execution_count": 32,
   "metadata": {
    "collapsed": false
   },
   "outputs": [],
   "source": [
    "import pandas as pd\n",
    "import datetime\n",
    "import numpy as np\n",
    "import seaborn as sns\n",
    "import matplotlib as plt\n",
    "\n",
    "%matplotlib inline\n",
    "\n",
    "## Script catered for presentation\n",
    "\n",
    "d1 = pd.read_csv('Exceedences_of_Cragieburn_Route_16th_3.csv', header=2)\n",
    "d2 = pd.read_csv('Exceedences_of_Cragieburn_Route_16th_4.csv', header=2)\n",
    "d3 = pd.read_csv('Exceedences_of_Cragieburn_Route_22nd_7.csv', header=2)\n",
    "d4 = pd.read_csv('Exceedences_of_Cragieburn_Route_25th_2.csv', header=2)\n",
    "\n",
    "d6 = pd.read_csv('Exceedences_of_Flemington_Route_17th_1.csv', header=2)\n",
    "\n",
    "d17 = pd.read_csv('Exceedences_of_Werribee_Route_23rd_2.csv', header=2)\n",
    "d18 = pd.read_csv('Exceedences_of_Werribee_Route_28th_11.csv', header=2)\n",
    "d19 = pd.read_csv('Exceedences_of_Werribee_Route_29th_1.csv', header=2)\n",
    "d20 = pd.read_csv('Exceedences_of_Werribee_Route_29th_3.csv', header=2)\n",
    "\n",
    "\n",
    "d1[\"Route\"] = \"Cragieburn\"\n",
    "d2['Route'] = 'Cragieburn'\n",
    "d3['Route'] = 'Cragieburn'\n",
    "d4['Route'] = 'Cragieburn'\n",
    "\n",
    "d6['Route'] = 'Flemington'\n",
    "\n",
    "d17['Route'] = 'Werribee'\n",
    "d18['Route'] = 'Werribee'\n",
    "d19['Route'] = 'Werribee'\n",
    "d20['Route'] = 'Werribee'\n",
    "\n",
    "\n",
    "frames = [d1, d2, d3, d4, d6, d17, d18, d19, d20]\n",
    "\n",
    "exceedanceData = pd.concat(frames)"
   ]
  },
  {
   "cell_type": "code",
   "execution_count": 33,
   "metadata": {
    "collapsed": false
   },
   "outputs": [
    {
     "data": {
      "text/html": [
       "<div>\n",
       "<table border=\"1\" class=\"dataframe\">\n",
       "  <thead>\n",
       "    <tr style=\"text-align: right;\">\n",
       "      <th></th>\n",
       "      <th>Latitude</th>\n",
       "      <th>Longitude</th>\n",
       "      <th>Analysis Type</th>\n",
       "      <th>Accelerometer Location</th>\n",
       "      <th>Direction</th>\n",
       "      <th>Value</th>\n",
       "      <th>Frequency(Hz)</th>\n",
       "      <th>Time</th>\n",
       "      <th>Speed</th>\n",
       "      <th>Route</th>\n",
       "    </tr>\n",
       "  </thead>\n",
       "  <tbody>\n",
       "    <tr>\n",
       "      <th>0</th>\n",
       "      <td>-37.624352</td>\n",
       "      <td>144.938279</td>\n",
       "      <td>Fourier Analysis</td>\n",
       "      <td>Bogie 1</td>\n",
       "      <td>Vertical</td>\n",
       "      <td>0.247912</td>\n",
       "      <td>9.765625</td>\n",
       "      <td>106.09</td>\n",
       "      <td>113.340999</td>\n",
       "      <td>Cragieburn</td>\n",
       "    </tr>\n",
       "    <tr>\n",
       "      <th>1</th>\n",
       "      <td>-37.653879</td>\n",
       "      <td>144.929572</td>\n",
       "      <td>Fourier Analysis</td>\n",
       "      <td>Bogie 1</td>\n",
       "      <td>Vertical</td>\n",
       "      <td>0.204691</td>\n",
       "      <td>10.156250</td>\n",
       "      <td>275.05</td>\n",
       "      <td>100.560101</td>\n",
       "      <td>Cragieburn</td>\n",
       "    </tr>\n",
       "    <tr>\n",
       "      <th>2</th>\n",
       "      <td>-37.618817</td>\n",
       "      <td>144.939400</td>\n",
       "      <td>Fourier Analysis</td>\n",
       "      <td>Bogie 2</td>\n",
       "      <td>Vertical</td>\n",
       "      <td>0.223668</td>\n",
       "      <td>10.156250</td>\n",
       "      <td>85.61</td>\n",
       "      <td>105.210368</td>\n",
       "      <td>Cragieburn</td>\n",
       "    </tr>\n",
       "    <tr>\n",
       "      <th>3</th>\n",
       "      <td>-37.624352</td>\n",
       "      <td>144.938279</td>\n",
       "      <td>Fourier Analysis</td>\n",
       "      <td>Bogie 2</td>\n",
       "      <td>Vertical</td>\n",
       "      <td>0.292309</td>\n",
       "      <td>9.765625</td>\n",
       "      <td>106.09</td>\n",
       "      <td>113.340999</td>\n",
       "      <td>Cragieburn</td>\n",
       "    </tr>\n",
       "    <tr>\n",
       "      <th>4</th>\n",
       "      <td>-37.653879</td>\n",
       "      <td>144.929572</td>\n",
       "      <td>Fourier Analysis</td>\n",
       "      <td>Bogie 2</td>\n",
       "      <td>Vertical</td>\n",
       "      <td>0.284281</td>\n",
       "      <td>10.156250</td>\n",
       "      <td>275.05</td>\n",
       "      <td>100.560101</td>\n",
       "      <td>Cragieburn</td>\n",
       "    </tr>\n",
       "  </tbody>\n",
       "</table>\n",
       "</div>"
      ],
      "text/plain": [
       "    Latitude   Longitude     Analysis Type Accelerometer Location Direction  \\\n",
       "0 -37.624352  144.938279  Fourier Analysis                Bogie 1  Vertical   \n",
       "1 -37.653879  144.929572  Fourier Analysis                Bogie 1  Vertical   \n",
       "2 -37.618817  144.939400  Fourier Analysis                Bogie 2  Vertical   \n",
       "3 -37.624352  144.938279  Fourier Analysis                Bogie 2  Vertical   \n",
       "4 -37.653879  144.929572  Fourier Analysis                Bogie 2  Vertical   \n",
       "\n",
       "      Value  Frequency(Hz)    Time       Speed       Route  \n",
       "0  0.247912       9.765625  106.09  113.340999  Cragieburn  \n",
       "1  0.204691      10.156250  275.05  100.560101  Cragieburn  \n",
       "2  0.223668      10.156250   85.61  105.210368  Cragieburn  \n",
       "3  0.292309       9.765625  106.09  113.340999  Cragieburn  \n",
       "4  0.284281      10.156250  275.05  100.560101  Cragieburn  "
      ]
     },
     "execution_count": 33,
     "metadata": {},
     "output_type": "execute_result"
    }
   ],
   "source": [
    "exceedanceData.head()"
   ]
  },
  {
   "cell_type": "code",
   "execution_count": 34,
   "metadata": {
    "collapsed": false
   },
   "outputs": [
    {
     "name": "stdout",
     "output_type": "stream",
     "text": [
      "<class 'pandas.core.frame.DataFrame'>\n",
      "Int64Index: 1238 entries, 0 to 279\n",
      "Data columns (total 10 columns):\n",
      "Latitude                  1238 non-null float64\n",
      "Longitude                 1238 non-null float64\n",
      "Analysis Type             1238 non-null object\n",
      "Accelerometer Location    1238 non-null object\n",
      "Direction                 1238 non-null object\n",
      "Value                     1238 non-null float64\n",
      "Frequency(Hz)             217 non-null float64\n",
      "Time                      1238 non-null float64\n",
      "Speed                     1238 non-null float64\n",
      "Route                     1238 non-null object\n",
      "dtypes: float64(6), object(4)\n",
      "memory usage: 106.4+ KB\n"
     ]
    }
   ],
   "source": [
    "exceedanceData.info()"
   ]
  },
  {
   "cell_type": "code",
   "execution_count": 35,
   "metadata": {
    "collapsed": false
   },
   "outputs": [
    {
     "data": {
      "text/plain": [
       "4.06850978686"
      ]
     },
     "execution_count": 35,
     "metadata": {},
     "output_type": "execute_result"
    }
   ],
   "source": [
    "min(exceedanceData.Speed)"
   ]
  },
  {
   "cell_type": "code",
   "execution_count": 36,
   "metadata": {
    "collapsed": false
   },
   "outputs": [
    {
     "data": {
      "text/plain": [
       "117.94213471399999"
      ]
     },
     "execution_count": 36,
     "metadata": {},
     "output_type": "execute_result"
    }
   ],
   "source": [
    "max(exceedanceData.Speed)"
   ]
  },
  {
   "cell_type": "code",
   "execution_count": 37,
   "metadata": {
    "collapsed": true
   },
   "outputs": [],
   "source": [
    "def speedBracket(speed2check):\n",
    "    if speed2check < 10:\n",
    "        return \"<10\"\n",
    "    if speed2check >= 10 and speed2check < 20:\n",
    "        return \"10-20\"\n",
    "    if speed2check >= 20 and speed2check < 30:\n",
    "        return \"20-30\"\n",
    "    if speed2check >= 30 and speed2check < 40:\n",
    "        return \"30-40\"\n",
    "    if speed2check >= 50 and speed2check < 60:\n",
    "        return \"50-60\"\n",
    "    if speed2check >= 60 and speed2check < 70:\n",
    "        return \"60-70\"\n",
    "    if speed2check >= 70 and speed2check < 80:\n",
    "        return \"70-80\"\n",
    "    if speed2check >= 90 and speed2check < 100:\n",
    "        return \"90-100\"\n",
    "    if speed2check >= 100 and speed2check < 110:\n",
    "        return \"100-110\"\n",
    "    if speed2check >= 110 and speed2check < 120:\n",
    "        return \"110-120\"\n"
   ]
  },
  {
   "cell_type": "code",
   "execution_count": 38,
   "metadata": {
    "collapsed": true
   },
   "outputs": [],
   "source": [
    "tocheck = speedBracket(111)"
   ]
  },
  {
   "cell_type": "code",
   "execution_count": 39,
   "metadata": {
    "collapsed": false
   },
   "outputs": [
    {
     "data": {
      "text/plain": [
       "'110-120'"
      ]
     },
     "execution_count": 39,
     "metadata": {},
     "output_type": "execute_result"
    }
   ],
   "source": [
    "tocheck"
   ]
  },
  {
   "cell_type": "code",
   "execution_count": 40,
   "metadata": {
    "collapsed": true
   },
   "outputs": [],
   "source": [
    "speedLst = []\n",
    "\n",
    "for idx, row in exceedanceData.iterrows():   \n",
    "    speedLst.append(speedBracket(row.Speed))\n",
    "    \n",
    "exceedanceData['Speed Bracket'] = speedLst"
   ]
  },
  {
   "cell_type": "code",
   "execution_count": 41,
   "metadata": {
    "collapsed": false
   },
   "outputs": [
    {
     "data": {
      "text/html": [
       "<div>\n",
       "<table border=\"1\" class=\"dataframe\">\n",
       "  <thead>\n",
       "    <tr style=\"text-align: right;\">\n",
       "      <th></th>\n",
       "      <th>Latitude</th>\n",
       "      <th>Longitude</th>\n",
       "      <th>Analysis Type</th>\n",
       "      <th>Accelerometer Location</th>\n",
       "      <th>Direction</th>\n",
       "      <th>Value</th>\n",
       "      <th>Frequency(Hz)</th>\n",
       "      <th>Time</th>\n",
       "      <th>Speed</th>\n",
       "      <th>Route</th>\n",
       "      <th>Speed Bracket</th>\n",
       "    </tr>\n",
       "  </thead>\n",
       "  <tbody>\n",
       "    <tr>\n",
       "      <th>0</th>\n",
       "      <td>-37.624352</td>\n",
       "      <td>144.938279</td>\n",
       "      <td>Fourier Analysis</td>\n",
       "      <td>Bogie 1</td>\n",
       "      <td>Vertical</td>\n",
       "      <td>0.247912</td>\n",
       "      <td>9.765625</td>\n",
       "      <td>106.09</td>\n",
       "      <td>113.340999</td>\n",
       "      <td>Cragieburn</td>\n",
       "      <td>110-120</td>\n",
       "    </tr>\n",
       "    <tr>\n",
       "      <th>1</th>\n",
       "      <td>-37.653879</td>\n",
       "      <td>144.929572</td>\n",
       "      <td>Fourier Analysis</td>\n",
       "      <td>Bogie 1</td>\n",
       "      <td>Vertical</td>\n",
       "      <td>0.204691</td>\n",
       "      <td>10.156250</td>\n",
       "      <td>275.05</td>\n",
       "      <td>100.560101</td>\n",
       "      <td>Cragieburn</td>\n",
       "      <td>100-110</td>\n",
       "    </tr>\n",
       "    <tr>\n",
       "      <th>2</th>\n",
       "      <td>-37.618817</td>\n",
       "      <td>144.939400</td>\n",
       "      <td>Fourier Analysis</td>\n",
       "      <td>Bogie 2</td>\n",
       "      <td>Vertical</td>\n",
       "      <td>0.223668</td>\n",
       "      <td>10.156250</td>\n",
       "      <td>85.61</td>\n",
       "      <td>105.210368</td>\n",
       "      <td>Cragieburn</td>\n",
       "      <td>100-110</td>\n",
       "    </tr>\n",
       "    <tr>\n",
       "      <th>3</th>\n",
       "      <td>-37.624352</td>\n",
       "      <td>144.938279</td>\n",
       "      <td>Fourier Analysis</td>\n",
       "      <td>Bogie 2</td>\n",
       "      <td>Vertical</td>\n",
       "      <td>0.292309</td>\n",
       "      <td>9.765625</td>\n",
       "      <td>106.09</td>\n",
       "      <td>113.340999</td>\n",
       "      <td>Cragieburn</td>\n",
       "      <td>110-120</td>\n",
       "    </tr>\n",
       "    <tr>\n",
       "      <th>4</th>\n",
       "      <td>-37.653879</td>\n",
       "      <td>144.929572</td>\n",
       "      <td>Fourier Analysis</td>\n",
       "      <td>Bogie 2</td>\n",
       "      <td>Vertical</td>\n",
       "      <td>0.284281</td>\n",
       "      <td>10.156250</td>\n",
       "      <td>275.05</td>\n",
       "      <td>100.560101</td>\n",
       "      <td>Cragieburn</td>\n",
       "      <td>100-110</td>\n",
       "    </tr>\n",
       "  </tbody>\n",
       "</table>\n",
       "</div>"
      ],
      "text/plain": [
       "    Latitude   Longitude     Analysis Type Accelerometer Location Direction  \\\n",
       "0 -37.624352  144.938279  Fourier Analysis                Bogie 1  Vertical   \n",
       "1 -37.653879  144.929572  Fourier Analysis                Bogie 1  Vertical   \n",
       "2 -37.618817  144.939400  Fourier Analysis                Bogie 2  Vertical   \n",
       "3 -37.624352  144.938279  Fourier Analysis                Bogie 2  Vertical   \n",
       "4 -37.653879  144.929572  Fourier Analysis                Bogie 2  Vertical   \n",
       "\n",
       "      Value  Frequency(Hz)    Time       Speed       Route Speed Bracket  \n",
       "0  0.247912       9.765625  106.09  113.340999  Cragieburn       110-120  \n",
       "1  0.204691      10.156250  275.05  100.560101  Cragieburn       100-110  \n",
       "2  0.223668      10.156250   85.61  105.210368  Cragieburn       100-110  \n",
       "3  0.292309       9.765625  106.09  113.340999  Cragieburn       110-120  \n",
       "4  0.284281      10.156250  275.05  100.560101  Cragieburn       100-110  "
      ]
     },
     "execution_count": 41,
     "metadata": {},
     "output_type": "execute_result"
    }
   ],
   "source": [
    "exceedanceData.head()"
   ]
  },
  {
   "cell_type": "code",
   "execution_count": 42,
   "metadata": {
    "collapsed": false
   },
   "outputs": [
    {
     "data": {
      "text/html": [
       "<div>\n",
       "<table border=\"1\" class=\"dataframe\">\n",
       "  <thead>\n",
       "    <tr style=\"text-align: right;\">\n",
       "      <th></th>\n",
       "      <th>Longitude</th>\n",
       "      <th>Latitude</th>\n",
       "      <th>Station Name</th>\n",
       "    </tr>\n",
       "  </thead>\n",
       "  <tbody>\n",
       "    <tr>\n",
       "      <th>0</th>\n",
       "      <td>144.760748</td>\n",
       "      <td>-37.866677</td>\n",
       "      <td>Aircraft Station</td>\n",
       "    </tr>\n",
       "    <tr>\n",
       "      <th>1</th>\n",
       "      <td>145.080039</td>\n",
       "      <td>-37.868638</td>\n",
       "      <td>Alamein    Station</td>\n",
       "    </tr>\n",
       "    <tr>\n",
       "      <th>2</th>\n",
       "      <td>144.824215</td>\n",
       "      <td>-37.777100</td>\n",
       "      <td>Albion Station</td>\n",
       "    </tr>\n",
       "    <tr>\n",
       "      <th>3</th>\n",
       "      <td>144.830013</td>\n",
       "      <td>-37.867006</td>\n",
       "      <td>Altona Station</td>\n",
       "    </tr>\n",
       "    <tr>\n",
       "      <th>4</th>\n",
       "      <td>144.800427</td>\n",
       "      <td>-37.782740</td>\n",
       "      <td>Ardeer Station</td>\n",
       "    </tr>\n",
       "  </tbody>\n",
       "</table>\n",
       "</div>"
      ],
      "text/plain": [
       "    Longitude   Latitude        Station Name\n",
       "0  144.760748 -37.866677    Aircraft Station\n",
       "1  145.080039 -37.868638  Alamein    Station\n",
       "2  144.824215 -37.777100      Albion Station\n",
       "3  144.830013 -37.867006      Altona Station\n",
       "4  144.800427 -37.782740      Ardeer Station"
      ]
     },
     "execution_count": 42,
     "metadata": {},
     "output_type": "execute_result"
    }
   ],
   "source": [
    "stationData = pd.read_csv('Railway_Station_Melbourne.csv', header=4  )\n",
    "stationData.head()"
   ]
  },
  {
   "cell_type": "code",
   "execution_count": 43,
   "metadata": {
    "collapsed": false
   },
   "outputs": [
    {
     "data": {
      "text/plain": [
       "-37.866677000000003"
      ]
     },
     "execution_count": 43,
     "metadata": {},
     "output_type": "execute_result"
    }
   ],
   "source": [
    "stationData.Latitude[0]"
   ]
  },
  {
   "cell_type": "code",
   "execution_count": 44,
   "metadata": {
    "collapsed": false
   },
   "outputs": [
    {
     "name": "stdout",
     "output_type": "stream",
     "text": [
      "<class 'pandas.core.frame.DataFrame'>\n",
      "Int64Index: 123 entries, 0 to 122\n",
      "Data columns (total 3 columns):\n",
      "Longitude       123 non-null float64\n",
      "Latitude        123 non-null float64\n",
      "Station Name    123 non-null object\n",
      "dtypes: float64(2), object(1)\n",
      "memory usage: 3.8+ KB\n"
     ]
    }
   ],
   "source": [
    "stationData.info()"
   ]
  },
  {
   "cell_type": "code",
   "execution_count": 45,
   "metadata": {
    "collapsed": false
   },
   "outputs": [],
   "source": [
    "import math\n",
    "\n",
    "def distanceCalc (excLon, excLat, stationLon, stationLat):   \n",
    "    return math.sqrt(math.pow(stationLat-excLat,2)+math.pow(stationLon-excLon,2))"
   ]
  },
  {
   "cell_type": "code",
   "execution_count": 46,
   "metadata": {
    "collapsed": false
   },
   "outputs": [],
   "source": [
    "listNearestStations = []\n",
    "\n",
    "for idx1, row1 in exceedanceData.iterrows():\n",
    "    x = row1.Longitude\n",
    "    y = row1.Latitude\n",
    "    tempDistanceLst = []\n",
    "    \n",
    "    for idx2, row2 in stationData.iterrows():\n",
    "        tempDistanceLst.append(distanceCalc(x, y, row2.Longitude, row2.Latitude))\n",
    "    \n",
    "    listNearestStations.append(stationData['Station Name'][tempDistanceLst.index(min(tempDistanceLst))])\n",
    "    \n",
    "\n",
    "exceedanceData['Nearest Station'] = listNearestStations\n",
    "exceedanceData['Exceedence Instance'] = 1\n",
    "\n"
   ]
  },
  {
   "cell_type": "code",
   "execution_count": 47,
   "metadata": {
    "collapsed": false
   },
   "outputs": [
    {
     "name": "stdout",
     "output_type": "stream",
     "text": [
      "    Latitude   Longitude     Analysis Type Accelerometer Location Direction  \\\n",
      "0 -37.624352  144.938279  Fourier Analysis                Bogie 1  Vertical   \n",
      "1 -37.653879  144.929572  Fourier Analysis                Bogie 1  Vertical   \n",
      "2 -37.618817  144.939400  Fourier Analysis                Bogie 2  Vertical   \n",
      "3 -37.624352  144.938279  Fourier Analysis                Bogie 2  Vertical   \n",
      "4 -37.653879  144.929572  Fourier Analysis                Bogie 2  Vertical   \n",
      "\n",
      "      Value  Frequency(Hz)    Time       Speed       Route Speed Bracket  \\\n",
      "0  0.247912       9.765625  106.09  113.340999  Cragieburn       110-120   \n",
      "1  0.204691      10.156250  275.05  100.560101  Cragieburn       100-110   \n",
      "2  0.223668      10.156250   85.61  105.210368  Cragieburn       100-110   \n",
      "3  0.292309       9.765625  106.09  113.340999  Cragieburn       110-120   \n",
      "4  0.284281      10.156250  275.05  100.560101  Cragieburn       100-110   \n",
      "\n",
      "        Nearest Station  Exceedence Instance  \n",
      "0   Craigieburn Station                    1  \n",
      "1  Broadmeadows Station                    1  \n",
      "2   Craigieburn Station                    1  \n",
      "3   Craigieburn Station                    1  \n",
      "4  Broadmeadows Station                    1  \n"
     ]
    }
   ],
   "source": [
    "print exceedanceData.head()"
   ]
  },
  {
   "cell_type": "code",
   "execution_count": 48,
   "metadata": {
    "collapsed": false
   },
   "outputs": [
    {
     "name": "stdout",
     "output_type": "stream",
     "text": [
      "<class 'pandas.core.frame.DataFrame'>\n",
      "Int64Index: 1238 entries, 0 to 279\n",
      "Data columns (total 13 columns):\n",
      "Latitude                  1238 non-null float64\n",
      "Longitude                 1238 non-null float64\n",
      "Analysis Type             1238 non-null object\n",
      "Accelerometer Location    1238 non-null object\n",
      "Direction                 1238 non-null object\n",
      "Value                     1238 non-null float64\n",
      "Frequency(Hz)             217 non-null float64\n",
      "Time                      1238 non-null float64\n",
      "Speed                     1238 non-null float64\n",
      "Route                     1238 non-null object\n",
      "Speed Bracket             1173 non-null object\n",
      "Nearest Station           1238 non-null object\n",
      "Exceedence Instance       1238 non-null int64\n",
      "dtypes: float64(6), int64(1), object(6)\n",
      "memory usage: 135.4+ KB\n"
     ]
    }
   ],
   "source": [
    "exceedanceData.info()"
   ]
  },
  {
   "cell_type": "code",
   "execution_count": 49,
   "metadata": {
    "collapsed": false
   },
   "outputs": [],
   "source": [
    "exceedanceData.to_csv('exceedancesLHR-pres.tsv', sep='\\t')"
   ]
  },
  {
   "cell_type": "code",
   "execution_count": null,
   "metadata": {
    "collapsed": true
   },
   "outputs": [],
   "source": []
  }
 ],
 "metadata": {
  "kernelspec": {
   "display_name": "Python 2",
   "language": "python",
   "name": "python2"
  },
  "language_info": {
   "codemirror_mode": {
    "name": "ipython",
    "version": 2
   },
   "file_extension": ".py",
   "mimetype": "text/x-python",
   "name": "python",
   "nbconvert_exporter": "python",
   "pygments_lexer": "ipython2",
   "version": "2.7.10"
  }
 },
 "nbformat": 4,
 "nbformat_minor": 0
}
